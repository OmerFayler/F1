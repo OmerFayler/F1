{
 "cells": [
  {
   "cell_type": "code",
   "execution_count": 1,
   "id": "91d3b1ef",
   "metadata": {
    "_cell_guid": "b1076dfc-b9ad-4769-8c92-a6c4dae69d19",
    "_uuid": "8f2839f25d086af736a60e9eeb907d3b93b6e0e5",
    "execution": {
     "iopub.execute_input": "2024-01-21T17:05:33.720508Z",
     "iopub.status.busy": "2024-01-21T17:05:33.720019Z",
     "iopub.status.idle": "2024-01-21T17:05:34.698699Z",
     "shell.execute_reply": "2024-01-21T17:05:34.696780Z"
    },
    "papermill": {
     "duration": 0.996209,
     "end_time": "2024-01-21T17:05:34.702051",
     "exception": false,
     "start_time": "2024-01-21T17:05:33.705842",
     "status": "completed"
    },
    "tags": []
   },
   "outputs": [
    {
     "name": "stdout",
     "output_type": "stream",
     "text": [
      "/kaggle/input/used-car-auction-prices/car_prices.csv\n"
     ]
    }
   ],
   "source": [
    "# This Python 3 environment comes with many helpful analytics libraries installed\n",
    "# It is defined by the kaggle/python Docker image: https://github.com/kaggle/docker-python\n",
    "# For example, here's several helpful packages to load\n",
    "\n",
    "import numpy as np # linear algebra\n",
    "import pandas as pd # data processing, CSV file I/O (e.g. pd.read_csv)\n",
    "\n",
    "# Input data files are available in the read-only \"../input/\" directory\n",
    "# For example, running this (by clicking run or pressing Shift+Enter) will list all files under the input directory\n",
    "\n",
    "import os\n",
    "for dirname, _, filenames in os.walk('/kaggle/input'):\n",
    "    for filename in filenames:\n",
    "        print(os.path.join(dirname, filename))\n",
    "\n",
    "# You can write up to 20GB to the current directory (/kaggle/working/) that gets preserved as output when you create a version using \"Save & Run All\" \n",
    "# You can also write temporary files to /kaggle/temp/, but they won't be saved outside of the current session"
   ]
  },
  {
   "cell_type": "markdown",
   "id": "cfdb2bdf",
   "metadata": {
    "papermill": {
     "duration": 0.010939,
     "end_time": "2024-01-21T17:05:34.724716",
     "exception": false,
     "start_time": "2024-01-21T17:05:34.713777",
     "status": "completed"
    },
    "tags": []
   },
   "source": [
    "# As a private car dealer ,which car I should buy and sell in my bussines? (according to the combine of detailes from the dataset)"
   ]
  },
  {
   "cell_type": "markdown",
   "id": "5d78a988",
   "metadata": {
    "papermill": {
     "duration": 0.011694,
     "end_time": "2024-01-21T17:05:34.748189",
     "exception": false,
     "start_time": "2024-01-21T17:05:34.736495",
     "status": "completed"
    },
    "tags": []
   },
   "source": [
    "there are recommended manufactures(make) that most of their cars sold above the mmr? making a table taht showing manufactuer, how many cars sold above the mmr, how many cars sold under the mmr, the average selling price(good sell) of car by manufacture- sum(sellingprice-mmr>0)/(how many cars sold above the mmr)"
   ]
  },
  {
   "cell_type": "markdown",
   "id": "a571926a",
   "metadata": {
    "papermill": {
     "duration": 0.011479,
     "end_time": "2024-01-21T17:05:34.771716",
     "exception": false,
     "start_time": "2024-01-21T17:05:34.760237",
     "status": "completed"
    },
    "tags": []
   },
   "source": [
    "the MMR column is automotive valuation company that asstimate the car price that going on auction sale."
   ]
  },
  {
   "cell_type": "code",
   "execution_count": null,
   "id": "8ce21742",
   "metadata": {
    "papermill": {
     "duration": 0.011637,
     "end_time": "2024-01-21T17:05:34.794639",
     "exception": false,
     "start_time": "2024-01-21T17:05:34.783002",
     "status": "completed"
    },
    "tags": []
   },
   "outputs": [],
   "source": []
  },
  {
   "cell_type": "code",
   "execution_count": 2,
   "id": "580717e9",
   "metadata": {
    "execution": {
     "iopub.execute_input": "2024-01-21T17:05:34.820461Z",
     "iopub.status.busy": "2024-01-21T17:05:34.819810Z",
     "iopub.status.idle": "2024-01-21T17:05:38.764438Z",
     "shell.execute_reply": "2024-01-21T17:05:38.763362Z"
    },
    "papermill": {
     "duration": 3.960896,
     "end_time": "2024-01-21T17:05:38.767387",
     "exception": false,
     "start_time": "2024-01-21T17:05:34.806491",
     "status": "completed"
    },
    "tags": []
   },
   "outputs": [
    {
     "name": "stderr",
     "output_type": "stream",
     "text": [
      "Skipping line 408163: expected 16 fields, saw 17\n",
      "Skipping line 417837: expected 16 fields, saw 17\n",
      "Skipping line 421291: expected 16 fields, saw 17\n",
      "Skipping line 424163: expected 16 fields, saw 17\n",
      "\n",
      "Skipping line 427042: expected 16 fields, saw 17\n",
      "Skipping line 427045: expected 16 fields, saw 17\n",
      "Skipping line 434426: expected 16 fields, saw 17\n",
      "Skipping line 444503: expected 16 fields, saw 17\n",
      "Skipping line 453796: expected 16 fields, saw 17\n",
      "\n",
      "Skipping line 461599: expected 16 fields, saw 17\n",
      "Skipping line 461614: expected 16 fields, saw 17\n",
      "\n",
      "Skipping line 492486: expected 16 fields, saw 17\n",
      "Skipping line 497010: expected 16 fields, saw 17\n",
      "Skipping line 497013: expected 16 fields, saw 17\n",
      "Skipping line 499085: expected 16 fields, saw 17\n",
      "Skipping line 501457: expected 16 fields, saw 17\n",
      "Skipping line 505301: expected 16 fields, saw 17\n",
      "Skipping line 505308: expected 16 fields, saw 17\n",
      "Skipping line 520463: expected 16 fields, saw 17\n",
      "\n",
      "Skipping line 528998: expected 16 fields, saw 17\n",
      "Skipping line 529011: expected 16 fields, saw 17\n",
      "Skipping line 529015: expected 16 fields, saw 17\n",
      "Skipping line 529624: expected 16 fields, saw 17\n",
      "Skipping line 548786: expected 16 fields, saw 17\n",
      "Skipping line 551224: expected 16 fields, saw 17\n",
      "Skipping line 554712: expected 16 fields, saw 17\n",
      "\n"
     ]
    }
   ],
   "source": [
    "data=pd.read_csv(\"/kaggle/input/used-car-auction-prices/car_prices.csv\",on_bad_lines = 'warn')"
   ]
  },
  {
   "cell_type": "code",
   "execution_count": 3,
   "id": "74581571",
   "metadata": {
    "execution": {
     "iopub.execute_input": "2024-01-21T17:05:38.795051Z",
     "iopub.status.busy": "2024-01-21T17:05:38.794608Z",
     "iopub.status.idle": "2024-01-21T17:05:38.828958Z",
     "shell.execute_reply": "2024-01-21T17:05:38.827444Z"
    },
    "papermill": {
     "duration": 0.051803,
     "end_time": "2024-01-21T17:05:38.831733",
     "exception": false,
     "start_time": "2024-01-21T17:05:38.779930",
     "status": "completed"
    },
    "tags": []
   },
   "outputs": [
    {
     "data": {
      "text/html": [
       "<div>\n",
       "<style scoped>\n",
       "    .dataframe tbody tr th:only-of-type {\n",
       "        vertical-align: middle;\n",
       "    }\n",
       "\n",
       "    .dataframe tbody tr th {\n",
       "        vertical-align: top;\n",
       "    }\n",
       "\n",
       "    .dataframe thead th {\n",
       "        text-align: right;\n",
       "    }\n",
       "</style>\n",
       "<table border=\"1\" class=\"dataframe\">\n",
       "  <thead>\n",
       "    <tr style=\"text-align: right;\">\n",
       "      <th></th>\n",
       "      <th>year</th>\n",
       "      <th>make</th>\n",
       "      <th>model</th>\n",
       "      <th>trim</th>\n",
       "      <th>body</th>\n",
       "      <th>transmission</th>\n",
       "      <th>vin</th>\n",
       "      <th>state</th>\n",
       "      <th>condition</th>\n",
       "      <th>odometer</th>\n",
       "      <th>color</th>\n",
       "      <th>interior</th>\n",
       "      <th>seller</th>\n",
       "      <th>mmr</th>\n",
       "      <th>sellingprice</th>\n",
       "      <th>saledate</th>\n",
       "    </tr>\n",
       "  </thead>\n",
       "  <tbody>\n",
       "    <tr>\n",
       "      <th>0</th>\n",
       "      <td>2015</td>\n",
       "      <td>Kia</td>\n",
       "      <td>Sorento</td>\n",
       "      <td>LX</td>\n",
       "      <td>SUV</td>\n",
       "      <td>automatic</td>\n",
       "      <td>5xyktca69fg566472</td>\n",
       "      <td>ca</td>\n",
       "      <td>5.0</td>\n",
       "      <td>16639.0</td>\n",
       "      <td>white</td>\n",
       "      <td>black</td>\n",
       "      <td>kia motors america, inc</td>\n",
       "      <td>20500</td>\n",
       "      <td>21500</td>\n",
       "      <td>Tue Dec 16 2014 12:30:00 GMT-0800 (PST)</td>\n",
       "    </tr>\n",
       "    <tr>\n",
       "      <th>1</th>\n",
       "      <td>2015</td>\n",
       "      <td>Kia</td>\n",
       "      <td>Sorento</td>\n",
       "      <td>LX</td>\n",
       "      <td>SUV</td>\n",
       "      <td>automatic</td>\n",
       "      <td>5xyktca69fg561319</td>\n",
       "      <td>ca</td>\n",
       "      <td>5.0</td>\n",
       "      <td>9393.0</td>\n",
       "      <td>white</td>\n",
       "      <td>beige</td>\n",
       "      <td>kia motors america, inc</td>\n",
       "      <td>20800</td>\n",
       "      <td>21500</td>\n",
       "      <td>Tue Dec 16 2014 12:30:00 GMT-0800 (PST)</td>\n",
       "    </tr>\n",
       "    <tr>\n",
       "      <th>2</th>\n",
       "      <td>2014</td>\n",
       "      <td>BMW</td>\n",
       "      <td>3 Series</td>\n",
       "      <td>328i SULEV</td>\n",
       "      <td>Sedan</td>\n",
       "      <td>automatic</td>\n",
       "      <td>wba3c1c51ek116351</td>\n",
       "      <td>ca</td>\n",
       "      <td>4.5</td>\n",
       "      <td>1331.0</td>\n",
       "      <td>gray</td>\n",
       "      <td>black</td>\n",
       "      <td>financial services remarketing (lease)</td>\n",
       "      <td>31900</td>\n",
       "      <td>30000</td>\n",
       "      <td>Thu Jan 15 2015 04:30:00 GMT-0800 (PST)</td>\n",
       "    </tr>\n",
       "    <tr>\n",
       "      <th>3</th>\n",
       "      <td>2015</td>\n",
       "      <td>Volvo</td>\n",
       "      <td>S60</td>\n",
       "      <td>T5</td>\n",
       "      <td>Sedan</td>\n",
       "      <td>automatic</td>\n",
       "      <td>yv1612tb4f1310987</td>\n",
       "      <td>ca</td>\n",
       "      <td>4.1</td>\n",
       "      <td>14282.0</td>\n",
       "      <td>white</td>\n",
       "      <td>black</td>\n",
       "      <td>volvo na rep/world omni</td>\n",
       "      <td>27500</td>\n",
       "      <td>27750</td>\n",
       "      <td>Thu Jan 29 2015 04:30:00 GMT-0800 (PST)</td>\n",
       "    </tr>\n",
       "    <tr>\n",
       "      <th>4</th>\n",
       "      <td>2014</td>\n",
       "      <td>BMW</td>\n",
       "      <td>6 Series Gran Coupe</td>\n",
       "      <td>650i</td>\n",
       "      <td>Sedan</td>\n",
       "      <td>automatic</td>\n",
       "      <td>wba6b2c57ed129731</td>\n",
       "      <td>ca</td>\n",
       "      <td>4.3</td>\n",
       "      <td>2641.0</td>\n",
       "      <td>gray</td>\n",
       "      <td>black</td>\n",
       "      <td>financial services remarketing (lease)</td>\n",
       "      <td>66000</td>\n",
       "      <td>67000</td>\n",
       "      <td>Thu Dec 18 2014 12:30:00 GMT-0800 (PST)</td>\n",
       "    </tr>\n",
       "  </tbody>\n",
       "</table>\n",
       "</div>"
      ],
      "text/plain": [
       "   year   make                model        trim   body transmission  \\\n",
       "0  2015    Kia              Sorento          LX    SUV    automatic   \n",
       "1  2015    Kia              Sorento          LX    SUV    automatic   \n",
       "2  2014    BMW             3 Series  328i SULEV  Sedan    automatic   \n",
       "3  2015  Volvo                  S60          T5  Sedan    automatic   \n",
       "4  2014    BMW  6 Series Gran Coupe        650i  Sedan    automatic   \n",
       "\n",
       "                 vin state  condition  odometer  color interior  \\\n",
       "0  5xyktca69fg566472    ca        5.0   16639.0  white    black   \n",
       "1  5xyktca69fg561319    ca        5.0    9393.0  white    beige   \n",
       "2  wba3c1c51ek116351    ca        4.5    1331.0   gray    black   \n",
       "3  yv1612tb4f1310987    ca        4.1   14282.0  white    black   \n",
       "4  wba6b2c57ed129731    ca        4.3    2641.0   gray    black   \n",
       "\n",
       "                                   seller    mmr  sellingprice  \\\n",
       "0                 kia motors america, inc  20500         21500   \n",
       "1                 kia motors america, inc  20800         21500   \n",
       "2  financial services remarketing (lease)  31900         30000   \n",
       "3                 volvo na rep/world omni  27500         27750   \n",
       "4  financial services remarketing (lease)  66000         67000   \n",
       "\n",
       "                                  saledate  \n",
       "0  Tue Dec 16 2014 12:30:00 GMT-0800 (PST)  \n",
       "1  Tue Dec 16 2014 12:30:00 GMT-0800 (PST)  \n",
       "2  Thu Jan 15 2015 04:30:00 GMT-0800 (PST)  \n",
       "3  Thu Jan 29 2015 04:30:00 GMT-0800 (PST)  \n",
       "4  Thu Dec 18 2014 12:30:00 GMT-0800 (PST)  "
      ]
     },
     "execution_count": 3,
     "metadata": {},
     "output_type": "execute_result"
    }
   ],
   "source": [
    "data.head(5)"
   ]
  },
  {
   "cell_type": "code",
   "execution_count": 4,
   "id": "58d1914a",
   "metadata": {
    "execution": {
     "iopub.execute_input": "2024-01-21T17:05:38.859608Z",
     "iopub.status.busy": "2024-01-21T17:05:38.859162Z",
     "iopub.status.idle": "2024-01-21T17:05:38.938084Z",
     "shell.execute_reply": "2024-01-21T17:05:38.936673Z"
    },
    "papermill": {
     "duration": 0.096416,
     "end_time": "2024-01-21T17:05:38.940878",
     "exception": false,
     "start_time": "2024-01-21T17:05:38.844462",
     "status": "completed"
    },
    "tags": []
   },
   "outputs": [],
   "source": [
    "data=data[data['year'] > 2010]"
   ]
  },
  {
   "cell_type": "code",
   "execution_count": 5,
   "id": "06d8c694",
   "metadata": {
    "execution": {
     "iopub.execute_input": "2024-01-21T17:05:38.967458Z",
     "iopub.status.busy": "2024-01-21T17:05:38.966752Z",
     "iopub.status.idle": "2024-01-21T17:05:38.975495Z",
     "shell.execute_reply": "2024-01-21T17:05:38.973808Z"
    },
    "papermill": {
     "duration": 0.025375,
     "end_time": "2024-01-21T17:05:38.978416",
     "exception": false,
     "start_time": "2024-01-21T17:05:38.953041",
     "status": "completed"
    },
    "tags": []
   },
   "outputs": [],
   "source": [
    "data['good_sell']=data['sellingprice']>data['mmr']"
   ]
  },
  {
   "cell_type": "code",
   "execution_count": 6,
   "id": "e37ea143",
   "metadata": {
    "execution": {
     "iopub.execute_input": "2024-01-21T17:05:39.007392Z",
     "iopub.status.busy": "2024-01-21T17:05:39.006953Z",
     "iopub.status.idle": "2024-01-21T17:05:39.016564Z",
     "shell.execute_reply": "2024-01-21T17:05:39.015302Z"
    },
    "papermill": {
     "duration": 0.028491,
     "end_time": "2024-01-21T17:05:39.019334",
     "exception": false,
     "start_time": "2024-01-21T17:05:38.990843",
     "status": "completed"
    },
    "tags": []
   },
   "outputs": [
    {
     "data": {
      "text/plain": [
       "0          True\n",
       "1          True\n",
       "2         False\n",
       "3          True\n",
       "4          True\n",
       "          ...  \n",
       "558806    False\n",
       "558807     True\n",
       "558808     True\n",
       "558809    False\n",
       "558810    False\n",
       "Name: good_sell, Length: 339512, dtype: bool"
      ]
     },
     "execution_count": 6,
     "metadata": {},
     "output_type": "execute_result"
    }
   ],
   "source": [
    "data['good_sell']"
   ]
  },
  {
   "cell_type": "code",
   "execution_count": 7,
   "id": "ede92913",
   "metadata": {
    "execution": {
     "iopub.execute_input": "2024-01-21T17:05:39.045321Z",
     "iopub.status.busy": "2024-01-21T17:05:39.044944Z",
     "iopub.status.idle": "2024-01-21T17:05:39.104591Z",
     "shell.execute_reply": "2024-01-21T17:05:39.103236Z"
    },
    "papermill": {
     "duration": 0.075644,
     "end_time": "2024-01-21T17:05:39.107198",
     "exception": false,
     "start_time": "2024-01-21T17:05:39.031554",
     "status": "completed"
    },
    "tags": []
   },
   "outputs": [
    {
     "data": {
      "text/html": [
       "<div>\n",
       "<style scoped>\n",
       "    .dataframe tbody tr th:only-of-type {\n",
       "        vertical-align: middle;\n",
       "    }\n",
       "\n",
       "    .dataframe tbody tr th {\n",
       "        vertical-align: top;\n",
       "    }\n",
       "\n",
       "    .dataframe thead th {\n",
       "        text-align: right;\n",
       "    }\n",
       "</style>\n",
       "<table border=\"1\" class=\"dataframe\">\n",
       "  <thead>\n",
       "    <tr style=\"text-align: right;\">\n",
       "      <th></th>\n",
       "      <th>year</th>\n",
       "      <th>make</th>\n",
       "      <th>model</th>\n",
       "      <th>trim</th>\n",
       "      <th>body</th>\n",
       "      <th>transmission</th>\n",
       "      <th>vin</th>\n",
       "      <th>state</th>\n",
       "      <th>condition</th>\n",
       "      <th>odometer</th>\n",
       "      <th>color</th>\n",
       "      <th>interior</th>\n",
       "      <th>seller</th>\n",
       "      <th>mmr</th>\n",
       "      <th>sellingprice</th>\n",
       "      <th>saledate</th>\n",
       "      <th>good_sell</th>\n",
       "    </tr>\n",
       "  </thead>\n",
       "  <tbody>\n",
       "    <tr>\n",
       "      <th>0</th>\n",
       "      <td>2015</td>\n",
       "      <td>Kia</td>\n",
       "      <td>Sorento</td>\n",
       "      <td>LX</td>\n",
       "      <td>SUV</td>\n",
       "      <td>automatic</td>\n",
       "      <td>5xyktca69fg566472</td>\n",
       "      <td>ca</td>\n",
       "      <td>5.0</td>\n",
       "      <td>16639.0</td>\n",
       "      <td>white</td>\n",
       "      <td>black</td>\n",
       "      <td>kia motors america, inc</td>\n",
       "      <td>20500</td>\n",
       "      <td>21500</td>\n",
       "      <td>Tue Dec 16 2014 12:30:00 GMT-0800 (PST)</td>\n",
       "      <td>True</td>\n",
       "    </tr>\n",
       "    <tr>\n",
       "      <th>1</th>\n",
       "      <td>2015</td>\n",
       "      <td>Kia</td>\n",
       "      <td>Sorento</td>\n",
       "      <td>LX</td>\n",
       "      <td>SUV</td>\n",
       "      <td>automatic</td>\n",
       "      <td>5xyktca69fg561319</td>\n",
       "      <td>ca</td>\n",
       "      <td>5.0</td>\n",
       "      <td>9393.0</td>\n",
       "      <td>white</td>\n",
       "      <td>beige</td>\n",
       "      <td>kia motors america, inc</td>\n",
       "      <td>20800</td>\n",
       "      <td>21500</td>\n",
       "      <td>Tue Dec 16 2014 12:30:00 GMT-0800 (PST)</td>\n",
       "      <td>True</td>\n",
       "    </tr>\n",
       "    <tr>\n",
       "      <th>3</th>\n",
       "      <td>2015</td>\n",
       "      <td>Volvo</td>\n",
       "      <td>S60</td>\n",
       "      <td>T5</td>\n",
       "      <td>Sedan</td>\n",
       "      <td>automatic</td>\n",
       "      <td>yv1612tb4f1310987</td>\n",
       "      <td>ca</td>\n",
       "      <td>4.1</td>\n",
       "      <td>14282.0</td>\n",
       "      <td>white</td>\n",
       "      <td>black</td>\n",
       "      <td>volvo na rep/world omni</td>\n",
       "      <td>27500</td>\n",
       "      <td>27750</td>\n",
       "      <td>Thu Jan 29 2015 04:30:00 GMT-0800 (PST)</td>\n",
       "      <td>True</td>\n",
       "    </tr>\n",
       "    <tr>\n",
       "      <th>4</th>\n",
       "      <td>2014</td>\n",
       "      <td>BMW</td>\n",
       "      <td>6 Series Gran Coupe</td>\n",
       "      <td>650i</td>\n",
       "      <td>Sedan</td>\n",
       "      <td>automatic</td>\n",
       "      <td>wba6b2c57ed129731</td>\n",
       "      <td>ca</td>\n",
       "      <td>4.3</td>\n",
       "      <td>2641.0</td>\n",
       "      <td>gray</td>\n",
       "      <td>black</td>\n",
       "      <td>financial services remarketing (lease)</td>\n",
       "      <td>66000</td>\n",
       "      <td>67000</td>\n",
       "      <td>Thu Dec 18 2014 12:30:00 GMT-0800 (PST)</td>\n",
       "      <td>True</td>\n",
       "    </tr>\n",
       "    <tr>\n",
       "      <th>8</th>\n",
       "      <td>2014</td>\n",
       "      <td>Audi</td>\n",
       "      <td>A4</td>\n",
       "      <td>2.0T Premium Plus quattro</td>\n",
       "      <td>Sedan</td>\n",
       "      <td>automatic</td>\n",
       "      <td>wauffafl3en030343</td>\n",
       "      <td>ca</td>\n",
       "      <td>4.2</td>\n",
       "      <td>9557.0</td>\n",
       "      <td>white</td>\n",
       "      <td>black</td>\n",
       "      <td>audi mission viejo</td>\n",
       "      <td>32100</td>\n",
       "      <td>32250</td>\n",
       "      <td>Thu Dec 18 2014 12:00:00 GMT-0800 (PST)</td>\n",
       "      <td>True</td>\n",
       "    </tr>\n",
       "  </tbody>\n",
       "</table>\n",
       "</div>"
      ],
      "text/plain": [
       "   year   make                model                       trim   body  \\\n",
       "0  2015    Kia              Sorento                         LX    SUV   \n",
       "1  2015    Kia              Sorento                         LX    SUV   \n",
       "3  2015  Volvo                  S60                         T5  Sedan   \n",
       "4  2014    BMW  6 Series Gran Coupe                       650i  Sedan   \n",
       "8  2014   Audi                   A4  2.0T Premium Plus quattro  Sedan   \n",
       "\n",
       "  transmission                vin state  condition  odometer  color interior  \\\n",
       "0    automatic  5xyktca69fg566472    ca        5.0   16639.0  white    black   \n",
       "1    automatic  5xyktca69fg561319    ca        5.0    9393.0  white    beige   \n",
       "3    automatic  yv1612tb4f1310987    ca        4.1   14282.0  white    black   \n",
       "4    automatic  wba6b2c57ed129731    ca        4.3    2641.0   gray    black   \n",
       "8    automatic  wauffafl3en030343    ca        4.2    9557.0  white    black   \n",
       "\n",
       "                                   seller    mmr  sellingprice  \\\n",
       "0                 kia motors america, inc  20500         21500   \n",
       "1                 kia motors america, inc  20800         21500   \n",
       "3                 volvo na rep/world omni  27500         27750   \n",
       "4  financial services remarketing (lease)  66000         67000   \n",
       "8                      audi mission viejo  32100         32250   \n",
       "\n",
       "                                  saledate  good_sell  \n",
       "0  Tue Dec 16 2014 12:30:00 GMT-0800 (PST)       True  \n",
       "1  Tue Dec 16 2014 12:30:00 GMT-0800 (PST)       True  \n",
       "3  Thu Jan 29 2015 04:30:00 GMT-0800 (PST)       True  \n",
       "4  Thu Dec 18 2014 12:30:00 GMT-0800 (PST)       True  \n",
       "8  Thu Dec 18 2014 12:00:00 GMT-0800 (PST)       True  "
      ]
     },
     "execution_count": 7,
     "metadata": {},
     "output_type": "execute_result"
    }
   ],
   "source": [
    "dataAboveMmr=data[data[\"good_sell\"]==True]\n",
    "dataAboveMmr.head(5)"
   ]
  },
  {
   "cell_type": "code",
   "execution_count": 8,
   "id": "7640a3d2",
   "metadata": {
    "execution": {
     "iopub.execute_input": "2024-01-21T17:05:39.135659Z",
     "iopub.status.busy": "2024-01-21T17:05:39.135242Z",
     "iopub.status.idle": "2024-01-21T17:05:39.202516Z",
     "shell.execute_reply": "2024-01-21T17:05:39.201178Z"
    },
    "papermill": {
     "duration": 0.08487,
     "end_time": "2024-01-21T17:05:39.205387",
     "exception": false,
     "start_time": "2024-01-21T17:05:39.120517",
     "status": "completed"
    },
    "tags": []
   },
   "outputs": [
    {
     "data": {
      "text/html": [
       "<div>\n",
       "<style scoped>\n",
       "    .dataframe tbody tr th:only-of-type {\n",
       "        vertical-align: middle;\n",
       "    }\n",
       "\n",
       "    .dataframe tbody tr th {\n",
       "        vertical-align: top;\n",
       "    }\n",
       "\n",
       "    .dataframe thead th {\n",
       "        text-align: right;\n",
       "    }\n",
       "</style>\n",
       "<table border=\"1\" class=\"dataframe\">\n",
       "  <thead>\n",
       "    <tr style=\"text-align: right;\">\n",
       "      <th></th>\n",
       "      <th>year</th>\n",
       "      <th>make</th>\n",
       "      <th>model</th>\n",
       "      <th>trim</th>\n",
       "      <th>body</th>\n",
       "      <th>transmission</th>\n",
       "      <th>vin</th>\n",
       "      <th>state</th>\n",
       "      <th>condition</th>\n",
       "      <th>odometer</th>\n",
       "      <th>color</th>\n",
       "      <th>interior</th>\n",
       "      <th>seller</th>\n",
       "      <th>mmr</th>\n",
       "      <th>sellingprice</th>\n",
       "      <th>saledate</th>\n",
       "      <th>good_sell</th>\n",
       "    </tr>\n",
       "  </thead>\n",
       "  <tbody>\n",
       "    <tr>\n",
       "      <th>2</th>\n",
       "      <td>2014</td>\n",
       "      <td>BMW</td>\n",
       "      <td>3 Series</td>\n",
       "      <td>328i SULEV</td>\n",
       "      <td>Sedan</td>\n",
       "      <td>automatic</td>\n",
       "      <td>wba3c1c51ek116351</td>\n",
       "      <td>ca</td>\n",
       "      <td>4.5</td>\n",
       "      <td>1331.0</td>\n",
       "      <td>gray</td>\n",
       "      <td>black</td>\n",
       "      <td>financial services remarketing (lease)</td>\n",
       "      <td>31900</td>\n",
       "      <td>30000</td>\n",
       "      <td>Thu Jan 15 2015 04:30:00 GMT-0800 (PST)</td>\n",
       "      <td>False</td>\n",
       "    </tr>\n",
       "    <tr>\n",
       "      <th>5</th>\n",
       "      <td>2015</td>\n",
       "      <td>Nissan</td>\n",
       "      <td>Altima</td>\n",
       "      <td>2.5 S</td>\n",
       "      <td>Sedan</td>\n",
       "      <td>automatic</td>\n",
       "      <td>1n4al3ap1fn326013</td>\n",
       "      <td>ca</td>\n",
       "      <td>1.0</td>\n",
       "      <td>5554.0</td>\n",
       "      <td>gray</td>\n",
       "      <td>black</td>\n",
       "      <td>enterprise vehicle exchange / tra / rental / t...</td>\n",
       "      <td>15350</td>\n",
       "      <td>10900</td>\n",
       "      <td>Tue Dec 30 2014 12:00:00 GMT-0800 (PST)</td>\n",
       "      <td>False</td>\n",
       "    </tr>\n",
       "    <tr>\n",
       "      <th>6</th>\n",
       "      <td>2014</td>\n",
       "      <td>BMW</td>\n",
       "      <td>M5</td>\n",
       "      <td>Base</td>\n",
       "      <td>Sedan</td>\n",
       "      <td>automatic</td>\n",
       "      <td>wbsfv9c51ed593089</td>\n",
       "      <td>ca</td>\n",
       "      <td>3.4</td>\n",
       "      <td>14943.0</td>\n",
       "      <td>black</td>\n",
       "      <td>black</td>\n",
       "      <td>the hertz corporation</td>\n",
       "      <td>69000</td>\n",
       "      <td>65000</td>\n",
       "      <td>Wed Dec 17 2014 12:30:00 GMT-0800 (PST)</td>\n",
       "      <td>False</td>\n",
       "    </tr>\n",
       "    <tr>\n",
       "      <th>7</th>\n",
       "      <td>2014</td>\n",
       "      <td>Chevrolet</td>\n",
       "      <td>Cruze</td>\n",
       "      <td>1LT</td>\n",
       "      <td>Sedan</td>\n",
       "      <td>automatic</td>\n",
       "      <td>1g1pc5sb2e7128460</td>\n",
       "      <td>ca</td>\n",
       "      <td>2.0</td>\n",
       "      <td>28617.0</td>\n",
       "      <td>black</td>\n",
       "      <td>black</td>\n",
       "      <td>enterprise vehicle exchange / tra / rental / t...</td>\n",
       "      <td>11900</td>\n",
       "      <td>9800</td>\n",
       "      <td>Tue Dec 16 2014 13:00:00 GMT-0800 (PST)</td>\n",
       "      <td>False</td>\n",
       "    </tr>\n",
       "    <tr>\n",
       "      <th>9</th>\n",
       "      <td>2014</td>\n",
       "      <td>Chevrolet</td>\n",
       "      <td>Camaro</td>\n",
       "      <td>LT</td>\n",
       "      <td>Convertible</td>\n",
       "      <td>automatic</td>\n",
       "      <td>2g1fb3d37e9218789</td>\n",
       "      <td>ca</td>\n",
       "      <td>3.0</td>\n",
       "      <td>4809.0</td>\n",
       "      <td>red</td>\n",
       "      <td>black</td>\n",
       "      <td>d/m auto sales inc</td>\n",
       "      <td>26300</td>\n",
       "      <td>17500</td>\n",
       "      <td>Tue Jan 20 2015 04:00:00 GMT-0800 (PST)</td>\n",
       "      <td>False</td>\n",
       "    </tr>\n",
       "  </tbody>\n",
       "</table>\n",
       "</div>"
      ],
      "text/plain": [
       "   year       make     model        trim         body transmission  \\\n",
       "2  2014        BMW  3 Series  328i SULEV        Sedan    automatic   \n",
       "5  2015     Nissan    Altima       2.5 S        Sedan    automatic   \n",
       "6  2014        BMW        M5        Base        Sedan    automatic   \n",
       "7  2014  Chevrolet     Cruze         1LT        Sedan    automatic   \n",
       "9  2014  Chevrolet    Camaro          LT  Convertible    automatic   \n",
       "\n",
       "                 vin state  condition  odometer  color interior  \\\n",
       "2  wba3c1c51ek116351    ca        4.5    1331.0   gray    black   \n",
       "5  1n4al3ap1fn326013    ca        1.0    5554.0   gray    black   \n",
       "6  wbsfv9c51ed593089    ca        3.4   14943.0  black    black   \n",
       "7  1g1pc5sb2e7128460    ca        2.0   28617.0  black    black   \n",
       "9  2g1fb3d37e9218789    ca        3.0    4809.0    red    black   \n",
       "\n",
       "                                              seller    mmr  sellingprice  \\\n",
       "2             financial services remarketing (lease)  31900         30000   \n",
       "5  enterprise vehicle exchange / tra / rental / t...  15350         10900   \n",
       "6                              the hertz corporation  69000         65000   \n",
       "7  enterprise vehicle exchange / tra / rental / t...  11900          9800   \n",
       "9                                 d/m auto sales inc  26300         17500   \n",
       "\n",
       "                                  saledate  good_sell  \n",
       "2  Thu Jan 15 2015 04:30:00 GMT-0800 (PST)      False  \n",
       "5  Tue Dec 30 2014 12:00:00 GMT-0800 (PST)      False  \n",
       "6  Wed Dec 17 2014 12:30:00 GMT-0800 (PST)      False  \n",
       "7  Tue Dec 16 2014 13:00:00 GMT-0800 (PST)      False  \n",
       "9  Tue Jan 20 2015 04:00:00 GMT-0800 (PST)      False  "
      ]
     },
     "execution_count": 8,
     "metadata": {},
     "output_type": "execute_result"
    }
   ],
   "source": [
    "dataUnderMmr=data[data[\"good_sell\"]==False]\n",
    "dataUnderMmr.head(5)"
   ]
  },
  {
   "cell_type": "code",
   "execution_count": 9,
   "id": "6e2f5470",
   "metadata": {
    "execution": {
     "iopub.execute_input": "2024-01-21T17:05:39.233764Z",
     "iopub.status.busy": "2024-01-21T17:05:39.233367Z",
     "iopub.status.idle": "2024-01-21T17:05:39.366040Z",
     "shell.execute_reply": "2024-01-21T17:05:39.364757Z"
    },
    "papermill": {
     "duration": 0.150342,
     "end_time": "2024-01-21T17:05:39.368918",
     "exception": false,
     "start_time": "2024-01-21T17:05:39.218576",
     "status": "completed"
    },
    "tags": []
   },
   "outputs": [],
   "source": [
    "df= dataAboveMmr.groupby('make')['sellingprice'].sum().to_frame()\n",
    "df['AboveMmr']=dataAboveMmr['make'].value_counts().to_frame()\n",
    "df['UnderMmr']=dataUnderMmr['make'].value_counts().to_frame().astype(int)\n",
    "df['average_sell_price_per_car']=df['sellingprice']/df['AboveMmr'].astype(int)\n",
    "df['above_under_ratio']=df['AboveMmr']/df['UnderMmr']\n",
    "df_avg_sort=df[['AboveMmr','UnderMmr','average_sell_price_per_car','above_under_ratio']].sort_values(by='average_sell_price_per_car',ascending=False)\n",
    "df_AboveMmr_sort=df[['AboveMmr','UnderMmr','average_sell_price_per_car','above_under_ratio']].sort_values(by='AboveMmr',ascending=False)\n",
    "df_UnderMmr_sort=df[['AboveMmr','UnderMmr','average_sell_price_per_car','above_under_ratio']].sort_values(by='UnderMmr',ascending=False)\n",
    "df_above_under_ratio_sort=df[['AboveMmr','UnderMmr','average_sell_price_per_car','above_under_ratio']].sort_values(by='above_under_ratio',ascending=False)"
   ]
  },
  {
   "cell_type": "code",
   "execution_count": 10,
   "id": "c4a8210f",
   "metadata": {
    "_kg_hide-input": false,
    "execution": {
     "iopub.execute_input": "2024-01-21T17:05:39.396569Z",
     "iopub.status.busy": "2024-01-21T17:05:39.396129Z",
     "iopub.status.idle": "2024-01-21T17:05:39.409858Z",
     "shell.execute_reply": "2024-01-21T17:05:39.408751Z"
    },
    "papermill": {
     "duration": 0.030171,
     "end_time": "2024-01-21T17:05:39.412100",
     "exception": false,
     "start_time": "2024-01-21T17:05:39.381929",
     "status": "completed"
    },
    "tags": []
   },
   "outputs": [
    {
     "data": {
      "text/html": [
       "<div>\n",
       "<style scoped>\n",
       "    .dataframe tbody tr th:only-of-type {\n",
       "        vertical-align: middle;\n",
       "    }\n",
       "\n",
       "    .dataframe tbody tr th {\n",
       "        vertical-align: top;\n",
       "    }\n",
       "\n",
       "    .dataframe thead th {\n",
       "        text-align: right;\n",
       "    }\n",
       "</style>\n",
       "<table border=\"1\" class=\"dataframe\">\n",
       "  <thead>\n",
       "    <tr style=\"text-align: right;\">\n",
       "      <th></th>\n",
       "      <th>AboveMmr</th>\n",
       "      <th>UnderMmr</th>\n",
       "      <th>average_sell_price_per_car</th>\n",
       "      <th>above_under_ratio</th>\n",
       "    </tr>\n",
       "    <tr>\n",
       "      <th>make</th>\n",
       "      <th></th>\n",
       "      <th></th>\n",
       "      <th></th>\n",
       "      <th></th>\n",
       "    </tr>\n",
       "  </thead>\n",
       "  <tbody>\n",
       "    <tr>\n",
       "      <th>Ferrari</th>\n",
       "      <td>3</td>\n",
       "      <td>5.0</td>\n",
       "      <td>162000.000000</td>\n",
       "      <td>0.600000</td>\n",
       "    </tr>\n",
       "    <tr>\n",
       "      <th>Rolls-Royce</th>\n",
       "      <td>6</td>\n",
       "      <td>7.0</td>\n",
       "      <td>159416.666667</td>\n",
       "      <td>0.857143</td>\n",
       "    </tr>\n",
       "    <tr>\n",
       "      <th>Bentley</th>\n",
       "      <td>13</td>\n",
       "      <td>15.0</td>\n",
       "      <td>127346.153846</td>\n",
       "      <td>0.866667</td>\n",
       "    </tr>\n",
       "    <tr>\n",
       "      <th>Aston Martin</th>\n",
       "      <td>2</td>\n",
       "      <td>NaN</td>\n",
       "      <td>98750.000000</td>\n",
       "      <td>NaN</td>\n",
       "    </tr>\n",
       "    <tr>\n",
       "      <th>land rover</th>\n",
       "      <td>1</td>\n",
       "      <td>2.0</td>\n",
       "      <td>71600.000000</td>\n",
       "      <td>0.500000</td>\n",
       "    </tr>\n",
       "  </tbody>\n",
       "</table>\n",
       "</div>"
      ],
      "text/plain": [
       "              AboveMmr  UnderMmr  average_sell_price_per_car  \\\n",
       "make                                                           \n",
       "Ferrari              3       5.0               162000.000000   \n",
       "Rolls-Royce          6       7.0               159416.666667   \n",
       "Bentley             13      15.0               127346.153846   \n",
       "Aston Martin         2       NaN                98750.000000   \n",
       "land rover           1       2.0                71600.000000   \n",
       "\n",
       "              above_under_ratio  \n",
       "make                             \n",
       "Ferrari                0.600000  \n",
       "Rolls-Royce            0.857143  \n",
       "Bentley                0.866667  \n",
       "Aston Martin                NaN  \n",
       "land rover             0.500000  "
      ]
     },
     "execution_count": 10,
     "metadata": {},
     "output_type": "execute_result"
    }
   ],
   "source": [
    "df_avg_sort.head(5)"
   ]
  },
  {
   "cell_type": "code",
   "execution_count": 11,
   "id": "b994904c",
   "metadata": {
    "execution": {
     "iopub.execute_input": "2024-01-21T17:05:39.440325Z",
     "iopub.status.busy": "2024-01-21T17:05:39.439912Z",
     "iopub.status.idle": "2024-01-21T17:05:39.452507Z",
     "shell.execute_reply": "2024-01-21T17:05:39.451611Z"
    },
    "papermill": {
     "duration": 0.029473,
     "end_time": "2024-01-21T17:05:39.455026",
     "exception": false,
     "start_time": "2024-01-21T17:05:39.425553",
     "status": "completed"
    },
    "tags": []
   },
   "outputs": [
    {
     "data": {
      "text/html": [
       "<div>\n",
       "<style scoped>\n",
       "    .dataframe tbody tr th:only-of-type {\n",
       "        vertical-align: middle;\n",
       "    }\n",
       "\n",
       "    .dataframe tbody tr th {\n",
       "        vertical-align: top;\n",
       "    }\n",
       "\n",
       "    .dataframe thead th {\n",
       "        text-align: right;\n",
       "    }\n",
       "</style>\n",
       "<table border=\"1\" class=\"dataframe\">\n",
       "  <thead>\n",
       "    <tr style=\"text-align: right;\">\n",
       "      <th></th>\n",
       "      <th>AboveMmr</th>\n",
       "      <th>UnderMmr</th>\n",
       "      <th>average_sell_price_per_car</th>\n",
       "      <th>above_under_ratio</th>\n",
       "    </tr>\n",
       "    <tr>\n",
       "      <th>make</th>\n",
       "      <th></th>\n",
       "      <th></th>\n",
       "      <th></th>\n",
       "      <th></th>\n",
       "    </tr>\n",
       "  </thead>\n",
       "  <tbody>\n",
       "    <tr>\n",
       "      <th>Ford</th>\n",
       "      <td>30144</td>\n",
       "      <td>36218.0</td>\n",
       "      <td>18808.916368</td>\n",
       "      <td>0.832293</td>\n",
       "    </tr>\n",
       "    <tr>\n",
       "      <th>Nissan</th>\n",
       "      <td>19283</td>\n",
       "      <td>21514.0</td>\n",
       "      <td>14837.880465</td>\n",
       "      <td>0.896300</td>\n",
       "    </tr>\n",
       "    <tr>\n",
       "      <th>Chevrolet</th>\n",
       "      <td>16590</td>\n",
       "      <td>17886.0</td>\n",
       "      <td>16455.347438</td>\n",
       "      <td>0.927541</td>\n",
       "    </tr>\n",
       "    <tr>\n",
       "      <th>Toyota</th>\n",
       "      <td>10897</td>\n",
       "      <td>13221.0</td>\n",
       "      <td>16883.966321</td>\n",
       "      <td>0.824219</td>\n",
       "    </tr>\n",
       "    <tr>\n",
       "      <th>Dodge</th>\n",
       "      <td>8380</td>\n",
       "      <td>9100.0</td>\n",
       "      <td>15395.316706</td>\n",
       "      <td>0.920879</td>\n",
       "    </tr>\n",
       "  </tbody>\n",
       "</table>\n",
       "</div>"
      ],
      "text/plain": [
       "           AboveMmr  UnderMmr  average_sell_price_per_car  above_under_ratio\n",
       "make                                                                        \n",
       "Ford          30144   36218.0                18808.916368           0.832293\n",
       "Nissan        19283   21514.0                14837.880465           0.896300\n",
       "Chevrolet     16590   17886.0                16455.347438           0.927541\n",
       "Toyota        10897   13221.0                16883.966321           0.824219\n",
       "Dodge          8380    9100.0                15395.316706           0.920879"
      ]
     },
     "execution_count": 11,
     "metadata": {},
     "output_type": "execute_result"
    }
   ],
   "source": [
    "df_AboveMmr_sort.head(5)"
   ]
  },
  {
   "cell_type": "code",
   "execution_count": 12,
   "id": "d784fed3",
   "metadata": {
    "execution": {
     "iopub.execute_input": "2024-01-21T17:05:39.484881Z",
     "iopub.status.busy": "2024-01-21T17:05:39.484453Z",
     "iopub.status.idle": "2024-01-21T17:05:39.498005Z",
     "shell.execute_reply": "2024-01-21T17:05:39.496843Z"
    },
    "papermill": {
     "duration": 0.030797,
     "end_time": "2024-01-21T17:05:39.500409",
     "exception": false,
     "start_time": "2024-01-21T17:05:39.469612",
     "status": "completed"
    },
    "tags": []
   },
   "outputs": [
    {
     "data": {
      "text/html": [
       "<div>\n",
       "<style scoped>\n",
       "    .dataframe tbody tr th:only-of-type {\n",
       "        vertical-align: middle;\n",
       "    }\n",
       "\n",
       "    .dataframe tbody tr th {\n",
       "        vertical-align: top;\n",
       "    }\n",
       "\n",
       "    .dataframe thead th {\n",
       "        text-align: right;\n",
       "    }\n",
       "</style>\n",
       "<table border=\"1\" class=\"dataframe\">\n",
       "  <thead>\n",
       "    <tr style=\"text-align: right;\">\n",
       "      <th></th>\n",
       "      <th>AboveMmr</th>\n",
       "      <th>UnderMmr</th>\n",
       "      <th>average_sell_price_per_car</th>\n",
       "      <th>above_under_ratio</th>\n",
       "    </tr>\n",
       "    <tr>\n",
       "      <th>make</th>\n",
       "      <th></th>\n",
       "      <th></th>\n",
       "      <th></th>\n",
       "      <th></th>\n",
       "    </tr>\n",
       "  </thead>\n",
       "  <tbody>\n",
       "    <tr>\n",
       "      <th>Ford</th>\n",
       "      <td>30144</td>\n",
       "      <td>36218.0</td>\n",
       "      <td>18808.916368</td>\n",
       "      <td>0.832293</td>\n",
       "    </tr>\n",
       "    <tr>\n",
       "      <th>Nissan</th>\n",
       "      <td>19283</td>\n",
       "      <td>21514.0</td>\n",
       "      <td>14837.880465</td>\n",
       "      <td>0.896300</td>\n",
       "    </tr>\n",
       "    <tr>\n",
       "      <th>Chevrolet</th>\n",
       "      <td>16590</td>\n",
       "      <td>17886.0</td>\n",
       "      <td>16455.347438</td>\n",
       "      <td>0.927541</td>\n",
       "    </tr>\n",
       "    <tr>\n",
       "      <th>Toyota</th>\n",
       "      <td>10897</td>\n",
       "      <td>13221.0</td>\n",
       "      <td>16883.966321</td>\n",
       "      <td>0.824219</td>\n",
       "    </tr>\n",
       "    <tr>\n",
       "      <th>Dodge</th>\n",
       "      <td>8380</td>\n",
       "      <td>9100.0</td>\n",
       "      <td>15395.316706</td>\n",
       "      <td>0.920879</td>\n",
       "    </tr>\n",
       "  </tbody>\n",
       "</table>\n",
       "</div>"
      ],
      "text/plain": [
       "           AboveMmr  UnderMmr  average_sell_price_per_car  above_under_ratio\n",
       "make                                                                        \n",
       "Ford          30144   36218.0                18808.916368           0.832293\n",
       "Nissan        19283   21514.0                14837.880465           0.896300\n",
       "Chevrolet     16590   17886.0                16455.347438           0.927541\n",
       "Toyota        10897   13221.0                16883.966321           0.824219\n",
       "Dodge          8380    9100.0                15395.316706           0.920879"
      ]
     },
     "execution_count": 12,
     "metadata": {},
     "output_type": "execute_result"
    }
   ],
   "source": [
    "df_UnderMmr_sort.head(5)"
   ]
  },
  {
   "cell_type": "code",
   "execution_count": 13,
   "id": "26d44845",
   "metadata": {
    "execution": {
     "iopub.execute_input": "2024-01-21T17:05:39.529930Z",
     "iopub.status.busy": "2024-01-21T17:05:39.529513Z",
     "iopub.status.idle": "2024-01-21T17:05:39.543456Z",
     "shell.execute_reply": "2024-01-21T17:05:39.542288Z"
    },
    "papermill": {
     "duration": 0.03126,
     "end_time": "2024-01-21T17:05:39.545929",
     "exception": false,
     "start_time": "2024-01-21T17:05:39.514669",
     "status": "completed"
    },
    "tags": []
   },
   "outputs": [
    {
     "data": {
      "text/html": [
       "<div>\n",
       "<style scoped>\n",
       "    .dataframe tbody tr th:only-of-type {\n",
       "        vertical-align: middle;\n",
       "    }\n",
       "\n",
       "    .dataframe tbody tr th {\n",
       "        vertical-align: top;\n",
       "    }\n",
       "\n",
       "    .dataframe thead th {\n",
       "        text-align: right;\n",
       "    }\n",
       "</style>\n",
       "<table border=\"1\" class=\"dataframe\">\n",
       "  <thead>\n",
       "    <tr style=\"text-align: right;\">\n",
       "      <th></th>\n",
       "      <th>AboveMmr</th>\n",
       "      <th>UnderMmr</th>\n",
       "      <th>average_sell_price_per_car</th>\n",
       "      <th>above_under_ratio</th>\n",
       "    </tr>\n",
       "    <tr>\n",
       "      <th>make</th>\n",
       "      <th></th>\n",
       "      <th></th>\n",
       "      <th></th>\n",
       "      <th></th>\n",
       "    </tr>\n",
       "  </thead>\n",
       "  <tbody>\n",
       "    <tr>\n",
       "      <th>chevrolet</th>\n",
       "      <td>5</td>\n",
       "      <td>3.0</td>\n",
       "      <td>10760.000000</td>\n",
       "      <td>1.666667</td>\n",
       "    </tr>\n",
       "    <tr>\n",
       "      <th>ford</th>\n",
       "      <td>33</td>\n",
       "      <td>20.0</td>\n",
       "      <td>13083.333333</td>\n",
       "      <td>1.650000</td>\n",
       "    </tr>\n",
       "    <tr>\n",
       "      <th>Saab</th>\n",
       "      <td>8</td>\n",
       "      <td>5.0</td>\n",
       "      <td>10887.500000</td>\n",
       "      <td>1.600000</td>\n",
       "    </tr>\n",
       "    <tr>\n",
       "      <th>lincoln</th>\n",
       "      <td>11</td>\n",
       "      <td>7.0</td>\n",
       "      <td>30681.818182</td>\n",
       "      <td>1.571429</td>\n",
       "    </tr>\n",
       "    <tr>\n",
       "      <th>volkswagen</th>\n",
       "      <td>3</td>\n",
       "      <td>2.0</td>\n",
       "      <td>18900.000000</td>\n",
       "      <td>1.500000</td>\n",
       "    </tr>\n",
       "  </tbody>\n",
       "</table>\n",
       "</div>"
      ],
      "text/plain": [
       "            AboveMmr  UnderMmr  average_sell_price_per_car  above_under_ratio\n",
       "make                                                                         \n",
       "chevrolet          5       3.0                10760.000000           1.666667\n",
       "ford              33      20.0                13083.333333           1.650000\n",
       "Saab               8       5.0                10887.500000           1.600000\n",
       "lincoln           11       7.0                30681.818182           1.571429\n",
       "volkswagen         3       2.0                18900.000000           1.500000"
      ]
     },
     "execution_count": 13,
     "metadata": {},
     "output_type": "execute_result"
    }
   ],
   "source": [
    "df_above_under_ratio_sort.head(5)"
   ]
  },
  {
   "cell_type": "markdown",
   "id": "1377fe48",
   "metadata": {
    "papermill": {
     "duration": 0.013695,
     "end_time": "2024-01-21T17:05:39.574544",
     "exception": false,
     "start_time": "2024-01-21T17:05:39.560849",
     "status": "completed"
    },
    "tags": []
   },
   "source": [
    "# (quality)best avg selling price aspect - hieghest selling avg price above MMR price for manufacture"
   ]
  },
  {
   "cell_type": "code",
   "execution_count": 14,
   "id": "b7db36f3",
   "metadata": {
    "execution": {
     "iopub.execute_input": "2024-01-21T17:05:39.605489Z",
     "iopub.status.busy": "2024-01-21T17:05:39.604660Z",
     "iopub.status.idle": "2024-01-21T17:05:40.019804Z",
     "shell.execute_reply": "2024-01-21T17:05:40.018531Z"
    },
    "papermill": {
     "duration": 0.433974,
     "end_time": "2024-01-21T17:05:40.022840",
     "exception": false,
     "start_time": "2024-01-21T17:05:39.588866",
     "status": "completed"
    },
    "tags": []
   },
   "outputs": [
    {
     "data": {
      "text/plain": [
       "<Axes: title={'center': 'Avg price for good sell(above MMR)'}, xlabel='Manufacture', ylabel='Price($)'>"
      ]
     },
     "execution_count": 14,
     "metadata": {},
     "output_type": "execute_result"
    },
    {
     "data": {
      "image/png": "[encoded data removed]",
      "text/plain": [
       "<Figure size 640x480 with 1 Axes>"
      ]
     },
     "metadata": {},
     "output_type": "display_data"
    }
   ],
   "source": [
    "df_avg_sort['average_sell_price_per_car'].head(5).plot.bar(title='Avg price for good sell(above MMR)',ylabel='Price($)',xlabel='Manufacture')"
   ]
  },
  {
   "cell_type": "markdown",
   "id": "3929339b",
   "metadata": {
    "papermill": {
     "duration": 0.014433,
     "end_time": "2024-01-21T17:05:40.052166",
     "exception": false,
     "start_time": "2024-01-21T17:05:40.037733",
     "status": "completed"
    },
    "tags": []
   },
   "source": [
    "(quantity) biggest amount of selling cars above the MMR price per manufacture"
   ]
  },
  {
   "cell_type": "code",
   "execution_count": 15,
   "id": "2a48cf6a",
   "metadata": {
    "execution": {
     "iopub.execute_input": "2024-01-21T17:05:40.083854Z",
     "iopub.status.busy": "2024-01-21T17:05:40.083384Z",
     "iopub.status.idle": "2024-01-21T17:05:40.428588Z",
     "shell.execute_reply": "2024-01-21T17:05:40.427382Z"
    },
    "papermill": {
     "duration": 0.364371,
     "end_time": "2024-01-21T17:05:40.431286",
     "exception": false,
     "start_time": "2024-01-21T17:05:40.066915",
     "status": "completed"
    },
    "tags": []
   },
   "outputs": [
    {
     "data": {
      "text/plain": [
       "<Axes: title={'center': 'Amount selling cars of good sell(above MMR)'}, xlabel='Manufacture', ylabel='Amount'>"
      ]
     },
     "execution_count": 15,
     "metadata": {},
     "output_type": "execute_result"
    },
    {
     "data": {
      "image/png": "[encoded data removed]",
      "text/plain": [
       "<Figure size 640x480 with 1 Axes>"
      ]
     },
     "metadata": {},
     "output_type": "display_data"
    }
   ],
   "source": [
    "df_AboveMmr_sort['AboveMmr'].head(5).plot.bar(title='Amount selling cars of good sell(above MMR)',ylabel='Amount',xlabel='Manufacture')"
   ]
  },
  {
   "cell_type": "markdown",
   "id": "c6ef167f",
   "metadata": {
    "papermill": {
     "duration": 0.01584,
     "end_time": "2024-01-21T17:05:40.463981",
     "exception": false,
     "start_time": "2024-01-21T17:05:40.448141",
     "status": "completed"
    },
    "tags": []
   },
   "source": [
    "checking the ford best selling models"
   ]
  },
  {
   "cell_type": "code",
   "execution_count": 16,
   "id": "a32ba8b5",
   "metadata": {
    "execution": {
     "iopub.execute_input": "2024-01-21T17:05:40.501804Z",
     "iopub.status.busy": "2024-01-21T17:05:40.500602Z",
     "iopub.status.idle": "2024-01-21T17:05:41.151461Z",
     "shell.execute_reply": "2024-01-21T17:05:41.149981Z"
    },
    "papermill": {
     "duration": 0.671978,
     "end_time": "2024-01-21T17:05:41.154403",
     "exception": false,
     "start_time": "2024-01-21T17:05:40.482425",
     "status": "completed"
    },
    "tags": []
   },
   "outputs": [
    {
     "data": {
      "text/plain": [
       "<Axes: title={'center': 'Models selling amount'}, xlabel='Model', ylabel='Amount'>"
      ]
     },
     "execution_count": 16,
     "metadata": {},
     "output_type": "execute_result"
    },
    {
     "data": {
      "image/png": "[encoded data removed]",
      "text/plain": [
       "<Figure size 640x480 with 1 Axes>"
      ]
     },
     "metadata": {},
     "output_type": "display_data"
    }
   ],
   "source": [
    "ford_df=dataAboveMmr.loc[dataAboveMmr['make']==\"Ford\"]\n",
    "ford_df1=ford_df['model'].value_counts().to_frame()\n",
    "ford_df1.plot.bar(xlabel='Model',ylabel='Amount',title='Models selling amount')"
   ]
  },
  {
   "cell_type": "markdown",
   "id": "83139958",
   "metadata": {
    "papermill": {
     "duration": 0.017329,
     "end_time": "2024-01-21T17:05:41.188903",
     "exception": false,
     "start_time": "2024-01-21T17:05:41.171574",
     "status": "completed"
    },
    "tags": []
   },
   "source": [
    "# linear regresion to predict the mmr price?"
   ]
  },
  {
   "cell_type": "code",
   "execution_count": 17,
   "id": "878d1530",
   "metadata": {
    "execution": {
     "iopub.execute_input": "2024-01-21T17:05:41.287687Z",
     "iopub.status.busy": "2024-01-21T17:05:41.287266Z",
     "iopub.status.idle": "2024-01-21T17:05:43.347697Z",
     "shell.execute_reply": "2024-01-21T17:05:43.346672Z"
    },
    "papermill": {
     "duration": 2.082017,
     "end_time": "2024-01-21T17:05:43.350363",
     "exception": false,
     "start_time": "2024-01-21T17:05:41.268346",
     "status": "completed"
    },
    "tags": []
   },
   "outputs": [],
   "source": [
    "\n",
    "import matplotlib.pyplot as plt\n",
    "import seaborn as sns\n",
    "\n",
    "# model\n",
    "from sklearn.linear_model import LinearRegression\n",
    "from sklearn.linear_model import LogisticRegression\n",
    "\n",
    "# For validation\n",
    "from sklearn.model_selection import train_test_split"
   ]
  },
  {
   "cell_type": "code",
   "execution_count": 18,
   "id": "1b48e2ec",
   "metadata": {
    "execution": {
     "iopub.execute_input": "2024-01-21T17:05:43.388582Z",
     "iopub.status.busy": "2024-01-21T17:05:43.388076Z",
     "iopub.status.idle": "2024-01-21T17:05:43.935913Z",
     "shell.execute_reply": "2024-01-21T17:05:43.934565Z"
    },
    "papermill": {
     "duration": 0.56998,
     "end_time": "2024-01-21T17:05:43.938964",
     "exception": false,
     "start_time": "2024-01-21T17:05:43.368984",
     "status": "completed"
    },
    "tags": []
   },
   "outputs": [],
   "source": [
    "data=data.fillna(0)\n",
    "data['year']=data['year'].astype(int)\n",
    "data['condition']=data['condition'].astype(float)\n",
    "data['odometer']=data['odometer'].astype(int)\n"
   ]
  },
  {
   "cell_type": "code",
   "execution_count": 19,
   "id": "b55d7d8e",
   "metadata": {
    "execution": {
     "iopub.execute_input": "2024-01-21T17:05:43.977553Z",
     "iopub.status.busy": "2024-01-21T17:05:43.977071Z",
     "iopub.status.idle": "2024-01-21T17:05:44.060547Z",
     "shell.execute_reply": "2024-01-21T17:05:44.059448Z"
    },
    "papermill": {
     "duration": 0.10704,
     "end_time": "2024-01-21T17:05:44.063507",
     "exception": false,
     "start_time": "2024-01-21T17:05:43.956467",
     "status": "completed"
    },
    "tags": []
   },
   "outputs": [],
   "source": [
    "ford_df2=data.loc[data['make']==\"Ford\"]\n"
   ]
  },
  {
   "cell_type": "code",
   "execution_count": 20,
   "id": "0aa3f32b",
   "metadata": {
    "execution": {
     "iopub.execute_input": "2024-01-21T17:05:44.100451Z",
     "iopub.status.busy": "2024-01-21T17:05:44.099765Z",
     "iopub.status.idle": "2024-01-21T17:05:44.106671Z",
     "shell.execute_reply": "2024-01-21T17:05:44.105677Z"
    },
    "papermill": {
     "duration": 0.029991,
     "end_time": "2024-01-21T17:05:44.110295",
     "exception": false,
     "start_time": "2024-01-21T17:05:44.080304",
     "status": "completed"
    },
    "tags": []
   },
   "outputs": [],
   "source": [
    "X = ford_df2[['sellingprice']]\n",
    "y = ford_df2['mmr']"
   ]
  },
  {
   "cell_type": "code",
   "execution_count": 21,
   "id": "2ad4eaf3",
   "metadata": {
    "execution": {
     "iopub.execute_input": "2024-01-21T17:05:44.149990Z",
     "iopub.status.busy": "2024-01-21T17:05:44.149300Z",
     "iopub.status.idle": "2024-01-21T17:05:44.158826Z",
     "shell.execute_reply": "2024-01-21T17:05:44.157796Z"
    },
    "papermill": {
     "duration": 0.032163,
     "end_time": "2024-01-21T17:05:44.162313",
     "exception": false,
     "start_time": "2024-01-21T17:05:44.130150",
     "status": "completed"
    },
    "tags": []
   },
   "outputs": [],
   "source": [
    "X_std = (X - X.min(axis=0)) / (X.max(axis=0) - X.min(axis=0))\n",
    "X_scaled = X_std * (1-0)+0"
   ]
  },
  {
   "cell_type": "code",
   "execution_count": 22,
   "id": "a22362da",
   "metadata": {
    "execution": {
     "iopub.execute_input": "2024-01-21T17:05:44.199568Z",
     "iopub.status.busy": "2024-01-21T17:05:44.199134Z",
     "iopub.status.idle": "2024-01-21T17:05:44.211579Z",
     "shell.execute_reply": "2024-01-21T17:05:44.210315Z"
    },
    "papermill": {
     "duration": 0.033678,
     "end_time": "2024-01-21T17:05:44.214485",
     "exception": false,
     "start_time": "2024-01-21T17:05:44.180807",
     "status": "completed"
    },
    "tags": []
   },
   "outputs": [],
   "source": [
    "X_train, X_test, y_train, y_test = train_test_split(X, y, test_size=0.2)"
   ]
  },
  {
   "cell_type": "code",
   "execution_count": 23,
   "id": "41899656",
   "metadata": {
    "execution": {
     "iopub.execute_input": "2024-01-21T17:05:44.253857Z",
     "iopub.status.busy": "2024-01-21T17:05:44.253391Z",
     "iopub.status.idle": "2024-01-21T17:05:44.260161Z",
     "shell.execute_reply": "2024-01-21T17:05:44.258162Z"
    },
    "papermill": {
     "duration": 0.032149,
     "end_time": "2024-01-21T17:05:44.264836",
     "exception": false,
     "start_time": "2024-01-21T17:05:44.232687",
     "status": "completed"
    },
    "tags": []
   },
   "outputs": [],
   "source": [
    "mymodel = LinearRegression()"
   ]
  },
  {
   "cell_type": "code",
   "execution_count": 24,
   "id": "80840573",
   "metadata": {
    "execution": {
     "iopub.execute_input": "2024-01-21T17:05:44.302176Z",
     "iopub.status.busy": "2024-01-21T17:05:44.301777Z",
     "iopub.status.idle": "2024-01-21T17:05:44.328200Z",
     "shell.execute_reply": "2024-01-21T17:05:44.326935Z"
    },
    "papermill": {
     "duration": 0.047872,
     "end_time": "2024-01-21T17:05:44.331027",
     "exception": false,
     "start_time": "2024-01-21T17:05:44.283155",
     "status": "completed"
    },
    "tags": []
   },
   "outputs": [],
   "source": [
    "mymodel_fit = mymodel.fit(X_train,y_train)"
   ]
  },
  {
   "cell_type": "code",
   "execution_count": 25,
   "id": "c844955d",
   "metadata": {
    "execution": {
     "iopub.execute_input": "2024-01-21T17:05:44.367014Z",
     "iopub.status.busy": "2024-01-21T17:05:44.366493Z",
     "iopub.status.idle": "2024-01-21T17:05:44.373773Z",
     "shell.execute_reply": "2024-01-21T17:05:44.372664Z"
    },
    "papermill": {
     "duration": 0.028624,
     "end_time": "2024-01-21T17:05:44.376337",
     "exception": false,
     "start_time": "2024-01-21T17:05:44.347713",
     "status": "completed"
    },
    "tags": []
   },
   "outputs": [],
   "source": [
    "y_prdict = mymodel_fit.predict(X_test)"
   ]
  },
  {
   "cell_type": "code",
   "execution_count": 26,
   "id": "8c33999c",
   "metadata": {
    "execution": {
     "iopub.execute_input": "2024-01-21T17:05:44.412228Z",
     "iopub.status.busy": "2024-01-21T17:05:44.411783Z",
     "iopub.status.idle": "2024-01-21T17:05:44.419265Z",
     "shell.execute_reply": "2024-01-21T17:05:44.418336Z"
    },
    "papermill": {
     "duration": 0.028181,
     "end_time": "2024-01-21T17:05:44.422091",
     "exception": false,
     "start_time": "2024-01-21T17:05:44.393910",
     "status": "completed"
    },
    "tags": []
   },
   "outputs": [
    {
     "data": {
      "text/plain": [
       "17818.079623881138"
      ]
     },
     "execution_count": 26,
     "metadata": {},
     "output_type": "execute_result"
    }
   ],
   "source": [
    "ford_df2['mmr'].mean()"
   ]
  },
  {
   "cell_type": "code",
   "execution_count": 27,
   "id": "95689749",
   "metadata": {
    "execution": {
     "iopub.execute_input": "2024-01-21T17:05:44.457805Z",
     "iopub.status.busy": "2024-01-21T17:05:44.457405Z",
     "iopub.status.idle": "2024-01-21T17:05:44.466708Z",
     "shell.execute_reply": "2024-01-21T17:05:44.465209Z"
    },
    "papermill": {
     "duration": 0.030115,
     "end_time": "2024-01-21T17:05:44.469336",
     "exception": false,
     "start_time": "2024-01-21T17:05:44.439221",
     "status": "completed"
    },
    "tags": []
   },
   "outputs": [
    {
     "data": {
      "text/plain": [
       "1163.3370791745097"
      ]
     },
     "execution_count": 27,
     "metadata": {},
     "output_type": "execute_result"
    }
   ],
   "source": [
    "abs(y_test - y_prdict).mean()"
   ]
  },
  {
   "cell_type": "code",
   "execution_count": 28,
   "id": "cb259075",
   "metadata": {
    "execution": {
     "iopub.execute_input": "2024-01-21T17:05:44.506335Z",
     "iopub.status.busy": "2024-01-21T17:05:44.505919Z",
     "iopub.status.idle": "2024-01-21T17:05:44.908633Z",
     "shell.execute_reply": "2024-01-21T17:05:44.907443Z"
    },
    "papermill": {
     "duration": 0.425175,
     "end_time": "2024-01-21T17:05:44.911687",
     "exception": false,
     "start_time": "2024-01-21T17:05:44.486512",
     "status": "completed"
    },
    "tags": []
   },
   "outputs": [
    {
     "data": {
      "text/plain": [
       "[<matplotlib.lines.Line2D at 0x7f127ef386a0>]"
      ]
     },
     "execution_count": 28,
     "metadata": {},
     "output_type": "execute_result"
    },
    {
     "data": {
      "image/png": "[encoded data removed]",
      "text/plain": [
       "<Figure size 640x480 with 1 Axes>"
      ]
     },
     "metadata": {},
     "output_type": "display_data"
    }
   ],
   "source": [
    "ax = sns.scatterplot(x=y_test, y=y_prdict)\n",
    "ax.plot(y_test, y_test, 'r')"
   ]
  },
  {
   "cell_type": "code",
   "execution_count": null,
   "id": "06921c49",
   "metadata": {
    "papermill": {
     "duration": 0.018733,
     "end_time": "2024-01-21T17:05:44.948907",
     "exception": false,
     "start_time": "2024-01-21T17:05:44.930174",
     "status": "completed"
    },
    "tags": []
   },
   "outputs": [],
   "source": []
  }
 ],
 "metadata": {
  "kaggle": {
   "accelerator": "none",
   "dataSources": [
    {
     "datasetId": 1351279,
     "sourceId": 2246965,
     "sourceType": "datasetVersion"
    }
   ],
   "dockerImageVersionId": 30626,
   "isGpuEnabled": false,
   "isInternetEnabled": false,
   "language": "python",
   "sourceType": "notebook"
  },
  "kernelspec": {
   "display_name": "Python 3",
   "language": "python",
   "name": "python3"
  },
  "language_info": {
   "codemirror_mode": {
    "name": "ipython",
    "version": 3
   },
   "file_extension": ".py",
   "mimetype": "text/x-python",
   "name": "python",
   "nbconvert_exporter": "python",
   "pygments_lexer": "ipython3",
   "version": "3.10.12"
  },
  "papermill": {
   "default_parameters": {},
   "duration": 16.02102,
   "end_time": "2024-01-21T17:05:45.789269",
   "environment_variables": {},
   "exception": null,
   "input_path": "__notebook__.ipynb",
   "output_path": "__notebook__.ipynb",
   "parameters": {},
   "start_time": "2024-01-21T17:05:29.768249",
   "version": "2.4.0"
  }
 },
 "nbformat": 4,
 "nbformat_minor": 5
}
